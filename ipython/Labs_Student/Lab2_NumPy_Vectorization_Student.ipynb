{
 "cells": [
  {
   "cell_type": "code",
   "execution_count": 1,
   "metadata": {
    "collapsed": false
   },
   "outputs": [],
   "source": [
    "import warnings\n",
    "warnings.filterwarnings('ignore')\n",
    "import numpy as np\n",
    "import matplotlib.pyplot as plt\n",
    "%matplotlib inline"
   ]
  },
  {
   "cell_type": "markdown",
   "metadata": {},
   "source": [
    "First we'll generate a random matrix"
   ]
  },
  {
   "cell_type": "code",
   "execution_count": 3,
   "metadata": {
    "collapsed": false
   },
   "outputs": [
    {
     "data": {
      "text/plain": [
       "array([[ 0.50119576,  0.75028696,  0.05805513,  0.28485084,  0.57788151],\n",
       "       [ 0.15816967,  0.794719  ,  0.13995439,  0.64390308,  0.08972116],\n",
       "       [ 0.11544681,  0.14019808,  0.06909268,  0.90740533,  0.37914353],\n",
       "       ..., \n",
       "       [ 0.67729113,  0.82689443,  0.39537894,  0.8578032 ,  0.17300703],\n",
       "       [ 0.07807061,  0.17706826,  0.37190122,  0.30473885,  0.4075363 ],\n",
       "       [ 0.18767618,  0.68917717,  0.69964776,  0.25927685,  0.84568648]])"
      ]
     },
     "execution_count": 3,
     "metadata": {},
     "output_type": "execute_result"
    }
   ],
   "source": [
    "#Number of columns (features)\n",
    "K = 5\n",
    "\n",
    "#Number of records\n",
    "N = 1000\n",
    "\n",
    "#Generate an NxK matrix of uniform random variables\n",
    "X = np.random.random([N,K])#Student: generate a uniform random matrix here\n",
    "X"
   ]
  },
  {
   "cell_type": "markdown",
   "metadata": {},
   "source": [
    "Let's peak at our data to confirm it looks as we expect it"
   ]
  },
  {
   "cell_type": "code",
   "execution_count": 4,
   "metadata": {
    "collapsed": false
   },
   "outputs": [
    {
     "data": {
      "text/plain": [
       "array([[ 0.50119576,  0.75028696,  0.05805513,  0.28485084,  0.57788151],\n",
       "       [ 0.15816967,  0.794719  ,  0.13995439,  0.64390308,  0.08972116],\n",
       "       [ 0.11544681,  0.14019808,  0.06909268,  0.90740533,  0.37914353],\n",
       "       [ 0.17900128,  0.92216258,  0.24681687,  0.66603427,  0.1628403 ],\n",
       "       [ 0.47865691,  0.21761603,  0.44271273,  0.32968433,  0.66332085],\n",
       "       [ 0.02695196,  0.4873933 ,  0.02998114,  0.84995759,  0.30625806],\n",
       "       [ 0.53664689,  0.92392669,  0.35056147,  0.97799978,  0.70761184],\n",
       "       [ 0.19904159,  0.32073515,  0.49822921,  0.18611506,  0.83646468],\n",
       "       [ 0.82746746,  0.21071928,  0.72385471,  0.90216987,  0.99353862],\n",
       "       [ 0.20688282,  0.63674471,  0.26738239,  0.64322464,  0.58170326],\n",
       "       [ 0.85922107,  0.79512946,  0.20977209,  0.69989554,  0.26263615],\n",
       "       [ 0.71201817,  0.99451928,  0.07632524,  0.03512954,  0.10117235],\n",
       "       [ 0.12424761,  0.69080887,  0.68519007,  0.81390342,  0.62881226],\n",
       "       [ 0.73384397,  0.55722035,  0.28100204,  0.39289215,  0.2958326 ],\n",
       "       [ 0.29222296,  0.7951618 ,  0.02631332,  0.62692987,  0.37830645],\n",
       "       [ 0.9247439 ,  0.86392773,  0.65833592,  0.59100881,  0.14459874],\n",
       "       [ 0.93877426,  0.69343345,  0.93612386,  0.38083779,  0.90555777],\n",
       "       [ 0.6469605 ,  0.85183195,  0.16777498,  0.74546352,  0.88720266],\n",
       "       [ 0.70708115,  0.5687946 ,  0.20339814,  0.56693473,  0.52392447],\n",
       "       [ 0.08457553,  0.40007152,  0.27474291,  0.90582592,  0.55822908],\n",
       "       [ 0.5461157 ,  0.60014237,  0.45050402,  0.57312671,  0.46734857],\n",
       "       [ 0.30804005,  0.90471217,  0.05860904,  0.86611986,  0.30951324],\n",
       "       [ 0.08367182,  0.33218912,  0.20949334,  0.30792954,  0.01030594],\n",
       "       [ 0.30267675,  0.22055272,  0.83683236,  0.69203613,  0.45803521],\n",
       "       [ 0.01372692,  0.56810301,  0.40871639,  0.07756208,  0.4651687 ],\n",
       "       [ 0.50036272,  0.41595754,  0.43024355,  0.19318641,  0.57812153],\n",
       "       [ 0.49107563,  0.27545182,  0.33457846,  0.61407711,  0.96500139],\n",
       "       [ 0.84124402,  0.48437591,  0.7177451 ,  0.206799  ,  0.60078548],\n",
       "       [ 0.00680599,  0.40631324,  0.96438123,  0.00919208,  0.81417605],\n",
       "       [ 0.73209097,  0.139869  ,  0.79180601,  0.23939193,  0.19983384],\n",
       "       [ 0.66854694,  0.27477356,  0.7663093 ,  0.65656178,  0.96161896],\n",
       "       [ 0.05826776,  0.75259922,  0.0314624 ,  0.14656078,  0.58053586],\n",
       "       [ 0.66041585,  0.84515457,  0.66514779,  0.0580934 ,  0.84059789],\n",
       "       [ 0.76253381,  0.70264355,  0.83798054,  0.42247847,  0.93473445],\n",
       "       [ 0.30541952,  0.40596162,  0.7784144 ,  0.91302887,  0.70051827],\n",
       "       [ 0.96976726,  0.33935254,  0.17226107,  0.2776524 ,  0.77864158],\n",
       "       [ 0.31709833,  0.62150521,  0.93676295,  0.26592177,  0.00545368],\n",
       "       [ 0.39235648,  0.38912152,  0.20394313,  0.86041063,  0.17141383],\n",
       "       [ 0.62594703,  0.87782745,  0.08609064,  0.11931855,  0.7038924 ],\n",
       "       [ 0.59045724,  0.23169147,  0.16254894,  0.55276937,  0.69539074],\n",
       "       [ 0.45479558,  0.7793188 ,  0.52471209,  0.58628968,  0.38951921],\n",
       "       [ 0.00518293,  0.09988429,  0.71110065,  0.41261523,  0.91081003],\n",
       "       [ 0.40379649,  0.27527721,  0.01800363,  0.55367899,  0.19020141],\n",
       "       [ 0.97249155,  0.19033164,  0.28467359,  0.27918022,  0.09673189],\n",
       "       [ 0.03287777,  0.39800486,  0.70030064,  0.31771757,  0.91817322],\n",
       "       [ 0.33525589,  0.55174331,  0.24944471,  0.75309981,  0.53245991],\n",
       "       [ 0.34627097,  0.27693337,  0.95601273,  0.86287517,  0.68570474],\n",
       "       [ 0.62890076,  0.21001847,  0.36745031,  0.34456986,  0.76066116],\n",
       "       [ 0.34062181,  0.93040574,  0.05607172,  0.30981715,  0.64644996],\n",
       "       [ 0.09053744,  0.62677496,  0.5315086 ,  0.35038924,  0.04159261],\n",
       "       [ 0.74247538,  0.85904581,  0.6735321 ,  0.07094991,  0.14111886],\n",
       "       [ 0.12526146,  0.29222668,  0.76137462,  0.04198226,  0.53598025],\n",
       "       [ 0.9261861 ,  0.33061362,  0.67384848,  0.85683735,  0.167572  ],\n",
       "       [ 0.43399393,  0.87974707,  0.34115872,  0.6242585 ,  0.1109408 ],\n",
       "       [ 0.04699995,  0.47260346,  0.97390012,  0.16564835,  0.59300872],\n",
       "       [ 0.78355087,  0.68294042,  0.63729832,  0.65366728,  0.28414938],\n",
       "       [ 0.29932002,  0.0761669 ,  0.09351361,  0.4906111 ,  0.5995161 ],\n",
       "       [ 0.11829845,  0.0165328 ,  0.01440385,  0.58359653,  0.9019999 ],\n",
       "       [ 0.45771263,  0.31671969,  0.10604445,  0.34331908,  0.69593791],\n",
       "       [ 0.41583362,  0.32067079,  0.7178626 ,  0.58869089,  0.30780611],\n",
       "       [ 0.31508816,  0.62903395,  0.69866136,  0.6750525 ,  0.56243468],\n",
       "       [ 0.79790335,  0.46471362,  0.29661241,  0.23177225,  0.16906388],\n",
       "       [ 0.47889249,  0.44358257,  0.86077829,  0.24515901,  0.54855672],\n",
       "       [ 0.25398795,  0.93638054,  0.54346161,  0.9736146 ,  0.29309945],\n",
       "       [ 0.84133627,  0.31098468,  0.68103886,  0.96991996,  0.4350057 ],\n",
       "       [ 0.71147445,  0.23876394,  0.35328565,  0.29975814,  0.9610725 ],\n",
       "       [ 0.30485905,  0.96078919,  0.73477145,  0.77285478,  0.22626455],\n",
       "       [ 0.8117509 ,  0.81417485,  0.20102036,  0.53141136,  0.2063178 ],\n",
       "       [ 0.54750039,  0.04851322,  0.95040904,  0.7972544 ,  0.68572995],\n",
       "       [ 0.33910808,  0.9035869 ,  0.90067006,  0.77910908,  0.52553059],\n",
       "       [ 0.70588317,  0.78241416,  0.96822959,  0.23444777,  0.1877161 ],\n",
       "       [ 0.66348838,  0.02776072,  0.0971496 ,  0.11305016,  0.55733599],\n",
       "       [ 0.64512296,  0.62769246,  0.55296504,  0.69772682,  0.01202776],\n",
       "       [ 0.18377296,  0.55941876,  0.23326728,  0.36954853,  0.00831966],\n",
       "       [ 0.12945265,  0.64860232,  0.50141982,  0.28175555,  0.08186151],\n",
       "       [ 0.38047571,  0.68967138,  0.78578906,  0.22010307,  0.45743085],\n",
       "       [ 0.82409711,  0.05513552,  0.85351346,  0.39113215,  0.2406858 ],\n",
       "       [ 0.919768  ,  0.79077271,  0.5406829 ,  0.81500061,  0.02850341],\n",
       "       [ 0.84759837,  0.50038418,  0.04637969,  0.96933209,  0.94422049],\n",
       "       [ 0.2951829 ,  0.77966057,  0.19262566,  0.87205603,  0.57984993],\n",
       "       [ 0.71429801,  0.38841972,  0.95047151,  0.73503235,  0.03225338],\n",
       "       [ 0.49142716,  0.63292703,  0.36563964,  0.22502921,  0.33964734],\n",
       "       [ 0.60713553,  0.29104215,  0.03123341,  0.80086477,  0.99193475],\n",
       "       [ 0.67800015,  0.49566832,  0.08374829,  0.22817784,  0.54563764],\n",
       "       [ 0.03340299,  0.14280139,  0.22045761,  0.42088204,  0.07829307],\n",
       "       [ 0.41160477,  0.89869465,  0.85646605,  0.72884495,  0.61644229],\n",
       "       [ 0.25097686,  0.93608468,  0.86134944,  0.10781855,  0.59819734],\n",
       "       [ 0.32001951,  0.14081004,  0.90208092,  0.96558546,  0.49276219],\n",
       "       [ 0.94392454,  0.87403011,  0.61744453,  0.55523795,  0.26730022],\n",
       "       [ 0.12370492,  0.64477461,  0.94573077,  0.78375554,  0.47133484],\n",
       "       [ 0.41698873,  0.43526644,  0.63362146,  0.01336313,  0.84614431],\n",
       "       [ 0.4252727 ,  0.82927231,  0.10119038,  0.85875086,  0.51508601],\n",
       "       [ 0.78040627,  0.6571376 ,  0.9938038 ,  0.74824779,  0.59832997],\n",
       "       [ 0.32287913,  0.13651133,  0.21229933,  0.94363726,  0.89834522],\n",
       "       [ 0.97676984,  0.02158895,  0.10838619,  0.87972355,  0.20437193],\n",
       "       [ 0.53605128,  0.78480022,  0.34851056,  0.12016288,  0.30990659],\n",
       "       [ 0.96013325,  0.57745928,  0.48148552,  0.93650799,  0.38800766],\n",
       "       [ 0.50661861,  0.30622505,  0.00492212,  0.74413214,  0.02804809],\n",
       "       [ 0.0064936 ,  0.02295344,  0.05027087,  0.26120689,  0.67729785],\n",
       "       [ 0.73532239,  0.31533736,  0.37654345,  0.43309872,  0.14376312]])"
      ]
     },
     "execution_count": 4,
     "metadata": {},
     "output_type": "execute_result"
    }
   ],
   "source": [
    "#Student - Put in a command to view the first 100 rows\n",
    "X[:100,:]"
   ]
  },
  {
   "cell_type": "code",
   "execution_count": 9,
   "metadata": {
    "collapsed": false
   },
   "outputs": [
    {
     "data": {
      "text/plain": [
       "<function argmax>"
      ]
     },
     "execution_count": 9,
     "metadata": {},
     "output_type": "execute_result"
    }
   ],
   "source": [
    "#Student - put in a command to see the dimensions of X\n",
    "X.shape\n",
    "X.size # No of entries\n",
    "X.argmax # Which index value gives the maximum value"
   ]
  },
  {
   "cell_type": "markdown",
   "metadata": {},
   "source": [
    "This exercise is about designing a scoring function for a logistic regression. As we are not concerned with fitting a model to data, we can just make up a logistic regression. <br> <br>\n",
    "\n",
    "For quick intro, the Logistic Regression takes the form of $\\hat{Y} = f(x * \\beta^T)$, where $x$ is the $1xK$ vector of features and $\\beta$ is the $1xK$ vector of weights. The function $f$, called a 'link' function, is the inverse logit: <br><br>\n",
    "\n",
    "<center>$f(a)=\\frac{1}{1+e^{-a}}$</center> <br><br>\n",
    "\n",
    "In this notebook we'll write a function that, given inputs of $X$ and $\\beta$, returns a value for $\\hat{Y}$.\n",
    "<br><br>\n",
    "First let's generate a random set of weights to represent $\\beta$.\n"
   ]
  },
  {
   "cell_type": "code",
   "execution_count": 10,
   "metadata": {
    "collapsed": false
   },
   "outputs": [
    {
     "data": {
      "text/plain": [
       "array([-0.76193949, -0.31216254, -0.8622365 ,  0.99095661, -0.86273864])"
      ]
     },
     "execution_count": 10,
     "metadata": {},
     "output_type": "execute_result"
    }
   ],
   "source": [
    "#Student - generate a K dimensional vector of uniform random variables in the interval [-1, 1]\n",
    "beta = (np.random.random(K)*2)-1 #input command here\n",
    "beta"
   ]
  },
  {
   "cell_type": "markdown",
   "metadata": {},
   "source": [
    "Notice how we applied a neat NumPy trick here. The numpy.random.random() function returns an array, yet we applied what appears to be a scalar operation on the vector. This is an example of what NumPy calls vectorization (a major point of this tutorial), which offers us both a very fast way to do run vector computations as well as a clean and concise method of coding. \n",
    "\n",
    "<br><br>\n",
    "\n",
    "<b>Question: we designed the above $beta$ vector such that $E[\\beta_i]=0$. How can we confirm that we did this correctly?</b>"
   ]
  },
  {
   "cell_type": "code",
   "execution_count": 12,
   "metadata": {
    "collapsed": false
   },
   "outputs": [
    {
     "data": {
      "text/plain": [
       "-0.36162411386033422"
      ]
     },
     "execution_count": 12,
     "metadata": {},
     "output_type": "execute_result"
    }
   ],
   "source": [
    "#start by taking the mean of the beta we already calculated\n",
    "\n",
    "#Student - fill in command here\n",
    "\n",
    "beta.mean()"
   ]
  },
  {
   "cell_type": "code",
   "execution_count": 18,
   "metadata": {
    "collapsed": false
   },
   "outputs": [],
   "source": [
    "#It is likely the above is not equal to zero. Let's simulate this 100k times and see what the distribution of means is\n",
    "#Student input code here\n",
    "sims = 100000\n",
    "means = []\n",
    "for i in range(sims):\n",
    "    means.append(((np.random.random(K)*2)-1).mean())"
   ]
  },
  {
   "cell_type": "markdown",
   "metadata": {},
   "source": [
    "Now let's use matplotlibs hist function to plot the histogram of means here. "
   ]
  },
  {
   "cell_type": "code",
   "execution_count": 19,
   "metadata": {
    "collapsed": false,
    "scrolled": true
   },
   "outputs": [
    {
     "data": {
      "image/png": "[encoded data removed]",
      "text/plain": [
       "<matplotlib.figure.Figure at 0x6c00438>"
      ]
     },
     "metadata": {},
     "output_type": "display_data"
    }
   ],
   "source": [
    "plt.hist(means)\n",
    "plt.show()"
   ]
  },
  {
   "cell_type": "markdown",
   "metadata": {},
   "source": [
    "We should expect the distribution to be centered around zero. Is it? As fun technical side, let's dive a little deeper into what this distribution should look like. The histogram shows a distribution of the average of a sample of 5 uniformly distributed random variables taken over N different samples. Can we compare this to a theoretical distribution?<br>\n",
    "\n",
    "Yes we can! We sampled each $\\beta_i$ from a uniform distribution over the interval $[-1, 1]$. The variance of a sample of uniformly distributed variables is given by $(1/12) * (b - a)^2$, where $b$ and $a$ are the min/max of the support interval. The standard error (or the standard deviation of the mean) of a sample of size K with with $Var(X) = \\sigma^2$ is $\\sigma / \\sqrt(K)$. <br>\n",
    "\n",
    "Given the above knowledge, we should expect our distribution of averages to be normally distributed with mean = 0 and var = $(12 * 5)^{-1} * (1 - (-1))^2 = 0.66667$. Let's compare this normal distribution to our sample above."
   ]
  },
  {
   "cell_type": "code",
   "execution_count": 20,
   "metadata": {
    "collapsed": false
   },
   "outputs": [
    {
     "data": {
      "image/png": "[encoded data removed]",
      "text/plain": [
       "<matplotlib.figure.Figure at 0x7e74ba8>"
      ]
     },
     "metadata": {},
     "output_type": "display_data"
    }
   ],
   "source": [
    "#Compute a vector from the normal distribution specified above\n",
    "from scipy.stats import norm\n",
    "mu = 0\n",
    "sig = np.sqrt(4 / 60.0) \n",
    "xs = np.linspace(-1, 1, 1000)\n",
    "ys = norm.pdf(xs, mu, sig) \n",
    "\n",
    "plt.hist(means, normed = True)\n",
    "plt.plot(xs, ys)\n",
    "plt.show()\n"
   ]
  },
  {
   "cell_type": "markdown",
   "metadata": {},
   "source": [
    "Now let's write our scoring function. Let's try to use as much of Numpy's inner optimization as possible (hint, this can be done in two lines and without writing any loops). The key is that numpy functions that would normally take in a scalar can also take in an array, and the function applies the operations element wise to the array and returns an array. i.e.:"
   ]
  },
  {
   "cell_type": "code",
   "execution_count": 22,
   "metadata": {
    "collapsed": false
   },
   "outputs": [
    {
     "data": {
      "text/plain": [
       "array([  1,   1,   9, 999,   0,  34])"
      ]
     },
     "execution_count": 22,
     "metadata": {},
     "output_type": "execute_result"
    }
   ],
   "source": [
    "ex_array = np.array([-1, 1, -9, -999, 0, 34])\n",
    "np.abs(ex_array)"
   ]
  },
  {
   "cell_type": "markdown",
   "metadata": {},
   "source": [
    "Let's use this feature to write a fast and clean scoring function"
   ]
  },
  {
   "cell_type": "code",
   "execution_count": 37,
   "metadata": {
    "collapsed": false
   },
   "outputs": [
    {
     "name": "stdout",
     "output_type": "stream",
     "text": [
      "(0, 0.50119576036421898)\n",
      "(1, 0.75028696356180313)\n",
      "(2, 0.058055130747314276)\n",
      "(3, 0.2848508405632707)\n",
      "(4, 0.57788151132942012)\n"
     ]
    }
   ],
   "source": [
    "def score_logistic_regression(X, beta):\n",
    "    '''\n",
    "    This function takes in an NxK matrix X and 1xK vector beta.\n",
    "    The function should apply the logistic scoring function to each record of X.\n",
    "    The output should be an Nx1 vector of scores\n",
    "    '''\n",
    "    xbeta = X.dot(beta)\n",
    "    #First let's calculate X*beta - make sure to use numpy's 'dot' method\n",
    "    #student - put in code here\n",
    "    \n",
    "    #Now let's input this into the link function\n",
    "    #student - put in code here\n",
    "    prob_score = 1/(1+np.exp(-1*xbeta))\n",
    "    return prob_score\n",
    "\n",
    "for (i,j) in enumerate(X[0]):\n",
    "    print(i,j)"
   ]
  },
  {
   "cell_type": "markdown",
   "metadata": {},
   "source": []
  },
  {
   "cell_type": "code",
   "execution_count": 29,
   "metadata": {
    "collapsed": false
   },
   "outputs": [],
   "source": [
    "def score_logistic_regression_NoNumpy(X, beta):\n",
    "    '''\n",
    "    This function takes in an NxK matrix X and 1xK vector beta.\n",
    "    The function should apply the logistic scoring function to each record of X.\n",
    "    The output should be an Nx1 vector of scores\n",
    "    '''\n",
    "    #Let's calculate xbeta using loops\n",
    "    xbeta = []\n",
    "    for row in X:\n",
    "        \n",
    "        xb = 0\n",
    "        for i, el in enumerate(row):\n",
    "            #Student - compute X*Beta in the loop\n",
    "            xb += el * beta(i)\n",
    "        xbeta.append(xb)\n",
    "        \n",
    "    #Now let's apply the link function to each xbeta\n",
    "    prob_score = []\n",
    "    for xb in xbeta:\n",
    "        #student - compute p in the loop  \n",
    "        p = 1/(1+np.exp(-1*xb))\n",
    "        prob_score.append(p)\n",
    "        \n",
    "    return prob_score"
   ]
  },
  {
   "cell_type": "markdown",
   "metadata": {},
   "source": [
    "Before doing any analysis, let's test the output of each to make sure they equal"
   ]
  },
  {
   "cell_type": "code",
   "execution_count": 39,
   "metadata": {
    "collapsed": false
   },
   "outputs": [
    {
     "ename": "TypeError",
     "evalue": "'numpy.ndarray' object is not callable",
     "output_type": "error",
     "traceback": [
      "\u001b[1;31m---------------------------------------------------------------------------\u001b[0m",
      "\u001b[1;31mTypeError\u001b[0m                                 Traceback (most recent call last)",
      "\u001b[1;32m<ipython-input-39-0adc73104244>\u001b[0m in \u001b[0;36m<module>\u001b[1;34m()\u001b[0m\n\u001b[0;32m      1\u001b[0m \u001b[1;31m#Student - write a unit test that calls each function with the same inputs and checks to see they return the same values.\u001b[0m\u001b[1;33m\u001b[0m\u001b[1;33m\u001b[0m\u001b[0m\n\u001b[1;32m----> 2\u001b[1;33m \u001b[0mdiff\u001b[0m \u001b[1;33m=\u001b[0m \u001b[0mnp\u001b[0m\u001b[1;33m.\u001b[0m\u001b[0mabs\u001b[0m\u001b[1;33m(\u001b[0m\u001b[0mscore_logistic_regression\u001b[0m\u001b[1;33m(\u001b[0m\u001b[0mX\u001b[0m\u001b[1;33m,\u001b[0m \u001b[0mbeta\u001b[0m\u001b[1;33m)\u001b[0m \u001b[1;33m-\u001b[0m \u001b[0mscore_logistic_regression_NoNumpy\u001b[0m\u001b[1;33m(\u001b[0m\u001b[0mX\u001b[0m\u001b[1;33m,\u001b[0m\u001b[0mbeta\u001b[0m\u001b[1;33m)\u001b[0m\u001b[1;33m)\u001b[0m\u001b[1;33m\u001b[0m\u001b[0m\n\u001b[0m\u001b[0;32m      3\u001b[0m \u001b[0mdiff\u001b[0m\u001b[1;33m.\u001b[0m\u001b[0msum\u001b[0m\u001b[1;33m(\u001b[0m\u001b[1;33m)\u001b[0m\u001b[1;33m\u001b[0m\u001b[0m\n\u001b[0;32m      4\u001b[0m \u001b[0mnp\u001b[0m\u001b[1;33m.\u001b[0m\u001b[0mround\u001b[0m\u001b[1;33m(\u001b[0m\u001b[0mdiff\u001b[0m\u001b[1;33m.\u001b[0m\u001b[0msum\u001b[0m\u001b[1;33m(\u001b[0m\u001b[1;33m)\u001b[0m\u001b[1;33m,\u001b[0m\u001b[1;36m10\u001b[0m\u001b[1;33m)\u001b[0m\u001b[1;33m\u001b[0m\u001b[0m\n",
      "\u001b[1;32m<ipython-input-29-1d507f3e4034>\u001b[0m in \u001b[0;36mscore_logistic_regression_NoNumpy\u001b[1;34m(X, beta)\u001b[0m\n\u001b[0;32m     12\u001b[0m         \u001b[1;32mfor\u001b[0m \u001b[0mi\u001b[0m\u001b[1;33m,\u001b[0m \u001b[0mel\u001b[0m \u001b[1;32min\u001b[0m \u001b[0menumerate\u001b[0m\u001b[1;33m(\u001b[0m\u001b[0mrow\u001b[0m\u001b[1;33m)\u001b[0m\u001b[1;33m:\u001b[0m\u001b[1;33m\u001b[0m\u001b[0m\n\u001b[0;32m     13\u001b[0m             \u001b[1;31m#Student - compute X*Beta in the loop\u001b[0m\u001b[1;33m\u001b[0m\u001b[1;33m\u001b[0m\u001b[0m\n\u001b[1;32m---> 14\u001b[1;33m             \u001b[0mxb\u001b[0m \u001b[1;33m+=\u001b[0m \u001b[0mel\u001b[0m \u001b[1;33m*\u001b[0m \u001b[0mbeta\u001b[0m\u001b[1;33m(\u001b[0m\u001b[0mi\u001b[0m\u001b[1;33m)\u001b[0m\u001b[1;33m\u001b[0m\u001b[0m\n\u001b[0m\u001b[0;32m     15\u001b[0m         \u001b[0mxbeta\u001b[0m\u001b[1;33m.\u001b[0m\u001b[0mappend\u001b[0m\u001b[1;33m(\u001b[0m\u001b[0mxb\u001b[0m\u001b[1;33m)\u001b[0m\u001b[1;33m\u001b[0m\u001b[0m\n\u001b[0;32m     16\u001b[0m \u001b[1;33m\u001b[0m\u001b[0m\n",
      "\u001b[1;31mTypeError\u001b[0m: 'numpy.ndarray' object is not callable"
     ]
    }
   ],
   "source": [
    "#Student - write a unit test that calls each function with the same inputs and checks to see they return the same values. \n",
    "diff = np.abs(score_logistic_regression(X, beta) - score_logistic_regression_NoNumpy(X,beta))\n",
    "diff.sum()\n",
    "np.round(diff.sum(),10)"
   ]
  },
  {
   "cell_type": "markdown",
   "metadata": {},
   "source": [
    "If they equal then we can proceed with timing analysis"
   ]
  },
  {
   "cell_type": "code",
   "execution_count": null,
   "metadata": {
    "collapsed": false
   },
   "outputs": [],
   "source": [
    "%timeit score_logistic_regression_NoNumpy(X, beta)"
   ]
  },
  {
   "cell_type": "code",
   "execution_count": null,
   "metadata": {
    "collapsed": false
   },
   "outputs": [],
   "source": [
    "%timeit score_logistic_regression(X, beta)"
   ]
  },
  {
   "cell_type": "markdown",
   "metadata": {},
   "source": []
  },
  {
   "cell_type": "code",
   "execution_count": null,
   "metadata": {
    "collapsed": true
   },
   "outputs": [],
   "source": []
  }
 ],
 "metadata": {
  "anaconda-cloud": {},
  "kernelspec": {
   "display_name": "Python 2",
   "language": "python",
   "name": "python2"
  },
  "language_info": {
   "codemirror_mode": {
    "name": "ipython",
    "version": 2
   },
   "file_extension": ".py",
   "mimetype": "text/x-python",
   "name": "python",
   "nbconvert_exporter": "python",
   "pygments_lexer": "ipython2",
   "version": "2.7.13"
  }
 },
 "nbformat": 4,
 "nbformat_minor": 0
}
